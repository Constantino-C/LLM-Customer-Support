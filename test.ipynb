{
 "cells": [
  {
   "cell_type": "code",
   "execution_count": 11,
   "id": "76506548",
   "metadata": {},
   "outputs": [],
   "source": [
    "import json, random, argparse, os\n",
    "from typing import Dict\n",
    "from assistant.formatting import CATEGORIES, PRODUCTS, PRIORITIES, SENTIMENTS, format_prompt, TARGET_JSON_SCHEMA\n"
   ]
  },
  {
   "cell_type": "code",
   "execution_count": 74,
   "id": "0087b20d",
   "metadata": {},
   "outputs": [],
   "source": [
    "random.seed(42)\n",
    "\n",
    "NAMES = [\"Alex\", \"Sam\", \"Taylor\", \"Jordan\", \"Priya\", \"Omar\", \"Lee\", \"Chen\", \"Ivy\"]\n",
    "ISSUES = {\n",
    "    \"billing\": [\n",
    "    \"I was charged twice\",\n",
    "    \"My invoice shows the wrong amount\",\n",
    "    \"Refund still not processed\",\n",
    "    ],\n",
    "    \"login\": [\n",
    "    \"2FA code never arrives\",\n",
    "    \"Password reset link expired\",\n",
    "    \"Locked out after update\",\n",
    "    ],\n",
    "    \"bug\": [\n",
    "    \"Export to CSV crashes\",\n",
    "    \"Page goes blank on save\",\n",
    "    \"Mobile app freezes on login\",\n",
    "    ],\n",
    "    \"feature_request\": [\n",
    "    \"Need dark mode\",\n",
    "    \"Please add functionality of extra users\",\n",
    "    \"Custom roles for teams\",\n",
    "    ],\n",
    "    \"shipping\": [\n",
    "    \"Package stuck in transit\",\n",
    "    \"Wrong item received\",\n",
    "    \"Return label not working\",\n",
    "    ],\n",
    "}\n",
    "\n",
    "TEMPLATES = [\n",
    "\"Hi team, I'm {name} on the {product} plan. {issue}. This is really {feeling}!\",\n",
    "\"Hello, {issue}. I'm using {product} and it's {feeling}. Please fix.\",\n",
    "\"My company is on {product}. {issue}. Priority should be {priority}.\",\n",
    "\"I tried support but no luck: {issue}. Using {product}.\",\n",
    "]\n",
    "\n",
    "FEELINGS = {\n",
    "\"negative\": [\"frustrating\", \"unacceptable\", \"blocking\", \"bad\"],\n",
    "\"neutral\": [\"inconvenient\", \"annoying\", \"not as expected\", \"mediocre\"],\n",
    "\"positive\": [\"just ok\", \"resolved after retry\", \"improved\", \"better than before\"],\n",
    "}\n",
    "\n",
    "PRIORITY_WEIGHTS = {\n",
    "    (\"billing\", \"negative\"):  [0.05, 0.25, 0.45, 0.25],\n",
    "    (\"billing\", \"neutral\"):   [0.15, 0.50, 0.30, 0.05],\n",
    "    (\"billing\", \"positive\"):  [0.40, 0.50, 0.09, 0.01],\n",
    "\n",
    "    (\"login\", \"negative\"):    [0.05, 0.25, 0.50, 0.20],\n",
    "    (\"login\", \"neutral\"):     [0.20, 0.55, 0.20, 0.05],\n",
    "    (\"login\", \"positive\"):    [0.50, 0.40, 0.09, 0.01],\n",
    "\n",
    "    (\"bug\", \"negative\"):      [0.10, 0.30, 0.40, 0.20],\n",
    "    (\"bug\", \"neutral\"):       [0.25, 0.50, 0.20, 0.05],\n",
    "    (\"bug\", \"positive\"):      [0.50, 0.40, 0.08, 0.02],\n",
    "\n",
    "    (\"feature_request\", \"negative\"): [0.50, 0.45, 0.05, 0.00],\n",
    "    (\"feature_request\", \"neutral\"):  [0.60, 0.35, 0.05, 0.00],\n",
    "    (\"feature_request\", \"positive\"): [0.70, 0.28, 0.02, 0.00],\n",
    "\n",
    "    (\"shipping\", \"negative\"):  [0.10, 0.35, 0.35, 0.20],\n",
    "    (\"shipping\", \"neutral\"):   [0.25, 0.50, 0.20, 0.05],\n",
    "    (\"shipping\", \"positive\"):  [0.50, 0.40, 0.09, 0.01],\n",
    "}\n",
    "\n",
    "SENTIMENT_WEIGHTS = {\n",
    "    \"billing\" :  [0.6,0.3,0.1],\n",
    "    \"login\" :   [0.4, 0.4, 0.2],\n",
    "    \"bug\" :  [0.6, 0.3, 0.1],\n",
    "    \"feature_request\" :  [0.15, 0.45, 0.4],\n",
    "    \"shipping\" : [0.55, 0.35, 0.1]\n",
    "}\n",
    "\n",
    "def make_example() -> Dict:\n",
    "    category = random.choice(CATEGORIES)\n",
    "    product = random.choice(PRODUCTS)\n",
    "    sentiment_weights = SENTIMENT_WEIGHTS.get(category)\n",
    "    sentiment = random.choices(SENTIMENTS, weights=sentiment_weights)[0]\n",
    "    priority_weights = PRIORITY_WEIGHTS.get((category, sentiment))\n",
    "    priority = random.choices(PRIORITIES, weights=priority_weights)[0]\n",
    "    issue = random.choice(ISSUES[category])\n",
    "    name = random.choice(NAMES)\n",
    "    feeling = random.choice(FEELINGS[sentiment])\n",
    "    text = random.choice(TEMPLATES).format(\n",
    "    name=name, product=product, issue=issue, feeling=feeling, priority=priority\n",
    "    )\n",
    "\n",
    "    record = {\n",
    "        \"message\": text,\n",
    "        \"expected\": {\n",
    "        \"category\": category,\n",
    "        \"priority\": priority,\n",
    "        \"product\": product,\n",
    "        \"sentiment\": sentiment,\n",
    "        \"summary\": issue,\n",
    "        },\n",
    "    }\n",
    "    return record"
   ]
  },
  {
   "cell_type": "code",
   "execution_count": null,
   "id": "951ed9f0",
   "metadata": {},
   "outputs": [],
   "source": []
  },
  {
   "cell_type": "code",
   "execution_count": null,
   "id": "6202196d",
   "metadata": {},
   "outputs": [],
   "source": []
  },
  {
   "cell_type": "code",
   "execution_count": null,
   "id": "086dbf4e",
   "metadata": {},
   "outputs": [],
   "source": []
  },
  {
   "cell_type": "code",
   "execution_count": 13,
   "id": "0fa8f371",
   "metadata": {},
   "outputs": [
    {
     "data": {
      "text/plain": [
       "{'message': 'I tried support but no luck: I was charged twice. Using Basic.',\n",
       " 'expected': {'category': 'billing',\n",
       "  'priority': 'low',\n",
       "  'product': 'Basic',\n",
       "  'sentiment': 'neutral',\n",
       "  'summary': 'I was charged twice'}}"
      ]
     },
     "execution_count": 13,
     "metadata": {},
     "output_type": "execute_result"
    }
   ],
   "source": [
    "make_example()"
   ]
  },
  {
   "cell_type": "code",
   "execution_count": null,
   "id": "ceda59aa",
   "metadata": {},
   "outputs": [],
   "source": []
  },
  {
   "cell_type": "code",
   "execution_count": 83,
   "id": "fa85ddc9",
   "metadata": {},
   "outputs": [],
   "source": [
    "\n",
    "def to_sft(example: Dict) -> Dict:\n",
    "    prompt = format_prompt(example[\"message\"])\n",
    "    response = json.dumps(example[\"expected\"], ensure_ascii=False)\n",
    "    return {\"text\": prompt + response}\n"
   ]
  },
  {
   "cell_type": "code",
   "execution_count": null,
   "id": "28e2b808",
   "metadata": {},
   "outputs": [],
   "source": [
    "\n",
    "def main(n_train: int, n_val: int, out_dir: str):\n",
    "    os.makedirs(out_dir, exist_ok=True)\n",
    "    train = [to_sft(make_example()) for _ in range(n_train)]\n",
    "    val = [to_sft(make_example()) for _ in range(n_val)]\n",
    "    with open(os.path.join(out_dir, \"synthetic_train.jsonl\"), \"w\", encoding=\"utf-8\") as f:\n",
    "        for ex in train: f.write(json.dumps(ex, ensure_ascii=False) + \"\\n\")\n",
    "    with open(os.path.join(out_dir, \"synthetic_val.jsonl\"), \"w\", encoding=\"utf-8\") as f:\n",
    "        for ex in val: f.write(json.dumps(ex, ensure_ascii=False) + \"\\n\")\n",
    "    print(f\"Wrote {len(train)} train and {len(val)} val to {out_dir}\")\n"
   ]
  },
  {
   "cell_type": "code",
   "execution_count": null,
   "id": "6fc33b2f",
   "metadata": {},
   "outputs": [],
   "source": [
    "\n",
    "if __name__ == \"__main__\":\n",
    "    ap = argparse.ArgumentParser()\n",
    "    ap.add_argument(\"--n_train\", type=int, default=5000)\n",
    "    ap.add_argument(\"--n_val\", type=int, default=500)\n",
    "    ap.add_argument(\"--out_dir\", type=str, default=\"data\")\n",
    "    args = ap.parse_args()\n",
    "    main(args.n_train, args.n_val, args.out_dir)\n",
    "\n",
    "\n"
   ]
  },
  {
   "cell_type": "code",
   "execution_count": null,
   "id": "0d60ca49",
   "metadata": {},
   "outputs": [],
   "source": []
  }
 ],
 "metadata": {
  "kernelspec": {
   "display_name": "customer-support",
   "language": "python",
   "name": "python3"
  },
  "language_info": {
   "codemirror_mode": {
    "name": "ipython",
    "version": 3
   },
   "file_extension": ".py",
   "mimetype": "text/x-python",
   "name": "python",
   "nbconvert_exporter": "python",
   "pygments_lexer": "ipython3",
   "version": "3.11.13"
  }
 },
 "nbformat": 4,
 "nbformat_minor": 5
}
