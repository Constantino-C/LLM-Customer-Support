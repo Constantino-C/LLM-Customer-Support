{
 "cells": [
  {
   "cell_type": "code",
   "execution_count": 16,
   "id": "a3aef431",
   "metadata": {},
   "outputs": [],
   "source": [
    "import os, json, math, yaml, argparse\n",
    "from typing import Optional\n",
    "from datasets import load_dataset\n",
    "from transformers import (\n",
    "AutoTokenizer, AutoModelForCausalLM, Trainer, TrainingArguments, DataCollatorForLanguageModeling\n",
    ")\n",
    "from peft import LoraConfig, get_peft_model, prepare_model_for_kbit_training"
   ]
  },
  {
   "cell_type": "code",
   "execution_count": 6,
   "id": "0d60ca49",
   "metadata": {},
   "outputs": [],
   "source": [
    "import yaml, os\n",
    "config_path = \"configs/train.yaml\"\n",
    "\n",
    "\n",
    "with open(config_path, \"r\") as f:\n",
    "    cfg = yaml.safe_load(f)\n",
    "os.makedirs(cfg['save_dir'], exist_ok=True)"
   ]
  },
  {
   "cell_type": "code",
   "execution_count": 7,
   "id": "5c22d455",
   "metadata": {},
   "outputs": [
    {
     "name": "stderr",
     "output_type": "stream",
     "text": [
      "c:\\Users\\cncos\\miniconda3\\envs\\customer-support\\Lib\\site-packages\\tqdm\\auto.py:21: TqdmWarning: IProgress not found. Please update jupyter and ipywidgets. See https://ipywidgets.readthedocs.io/en/stable/user_install.html\n",
      "  from .autonotebook import tqdm as notebook_tqdm\n"
     ]
    }
   ],
   "source": [
    "from transformers import (\n",
    "AutoTokenizer, AutoModelForCausalLM, Trainer, TrainingArguments, DataCollatorForLanguageModeling\n",
    ")"
   ]
  },
  {
   "cell_type": "code",
   "execution_count": 9,
   "id": "1019b794",
   "metadata": {},
   "outputs": [
    {
     "name": "stderr",
     "output_type": "stream",
     "text": [
      "c:\\Users\\cncos\\miniconda3\\envs\\customer-support\\Lib\\site-packages\\huggingface_hub\\file_download.py:143: UserWarning: `huggingface_hub` cache-system uses symlinks by default to efficiently store duplicated files but your machine does not support them in C:\\Users\\cncos\\.cache\\huggingface\\hub\\models--TinyLlama--TinyLlama-1.1B-Chat-v1.0. Caching files will still work but in a degraded version that might require more space on your disk. This warning can be disabled by setting the `HF_HUB_DISABLE_SYMLINKS_WARNING` environment variable. For more details, see https://huggingface.co/docs/huggingface_hub/how-to-cache#limitations.\n",
      "To support symlinks on Windows, you either need to activate Developer Mode or to run Python as an administrator. In order to activate developer mode, see this article: https://docs.microsoft.com/en-us/windows/apps/get-started/enable-your-device-for-development\n",
      "  warnings.warn(message)\n",
      "Xet Storage is enabled for this repo, but the 'hf_xet' package is not installed. Falling back to regular HTTP download. For better performance, install the package with: `pip install huggingface_hub[hf_xet]` or `pip install hf_xet`\n"
     ]
    }
   ],
   "source": [
    "tokenizer = AutoTokenizer.from_pretrained(cfg['base_model'], use_fast=True)\n",
    "tokenizer.padding_side = \"right\"\n",
    "tokenizer.truncation_side = \"right\""
   ]
  },
  {
   "cell_type": "code",
   "execution_count": 10,
   "id": "0e182a2c",
   "metadata": {},
   "outputs": [],
   "source": [
    "load_kwargs = {\"trust_remote_code\": True}\n",
    "if cfg['use_qlora']:\n",
    "    load_kwargs.update(dict(\n",
    "        load_in_4bit=True,\n",
    "        bnb_4bit_quant_type=\"nf4\",\n",
    "        bnb_4bit_use_double_quant=True,\n",
    "        bnb_4bit_compute_dtype=\"bfloat16\" if cfg['bf16'] else \"float16\",\n",
    "    ))\n"
   ]
  },
  {
   "cell_type": "code",
   "execution_count": 13,
   "id": "4e35ec43",
   "metadata": {},
   "outputs": [
    {
     "name": "stderr",
     "output_type": "stream",
     "text": [
      "Xet Storage is enabled for this repo, but the 'hf_xet' package is not installed. Falling back to regular HTTP download. For better performance, install the package with: `pip install huggingface_hub[hf_xet]` or `pip install hf_xet`\n"
     ]
    }
   ],
   "source": [
    "\n",
    "model = AutoModelForCausalLM.from_pretrained(cfg['base_model'], **load_kwargs)"
   ]
  },
  {
   "cell_type": "code",
   "execution_count": 17,
   "id": "da0b65fc",
   "metadata": {},
   "outputs": [],
   "source": [
    "peft_cfg = LoraConfig(\n",
    "r=cfg['lora_r'],\n",
    "lora_alpha=cfg['lora_alpha'],\n",
    "lora_dropout=cfg['lora_dropout'],\n",
    "bias=\"none\",\n",
    "task_type=\"CAUSAL_LM\",\n",
    "target_modules=[\"q_proj\", \"k_proj\", \"v_proj\", \"o_proj\", \"gate_proj\", \"up_proj\", \"down_proj\"],\n",
    ")\n",
    "model = get_peft_model(model, peft_cfg)"
   ]
  },
  {
   "cell_type": "code",
   "execution_count": 20,
   "id": "831e2f59",
   "metadata": {},
   "outputs": [
    {
     "name": "stderr",
     "output_type": "stream",
     "text": [
      "Generating train split: 1000 examples [00:00, 14159.18 examples/s]\n",
      "Generating train split: 200 examples [00:00, 13360.85 examples/s]\n"
     ]
    }
   ],
   "source": [
    "# Data\n",
    "ds_train = load_dataset(\"json\", data_files=cfg['train_file'], split=\"train\")\n",
    "ds_val = load_dataset(\"json\", data_files=cfg['val_file'], split=\"train\")"
   ]
  },
  {
   "cell_type": "code",
   "execution_count": 24,
   "id": "ec69c6c8",
   "metadata": {},
   "outputs": [
    {
     "name": "stderr",
     "output_type": "stream",
     "text": [
      "Map: 100%|██████████| 1000/1000 [00:00<00:00, 3339.45 examples/s]\n",
      "Map: 100%|██████████| 200/200 [00:00<00:00, 2237.36 examples/s]\n"
     ]
    }
   ],
   "source": [
    "\n",
    "def tok(batch):\n",
    "    return tokenizer(\n",
    "        batch[\"text\"],\n",
    "        max_length=cfg['max_seq_len'],\n",
    "        truncation=True,\n",
    "        padding=False,\n",
    "    )\n",
    "ds_train = ds_train.map(tok, batched=True, remove_columns=[\"text\"]).shuffle(seed=cfg['seed'])\n",
    "ds_val = ds_val.map(tok, batched=True, remove_columns=[\"text\"])"
   ]
  },
  {
   "cell_type": "code",
   "execution_count": 35,
   "id": "32f3a7a1",
   "metadata": {},
   "outputs": [],
   "source": [
    "args = TrainingArguments(\n",
    "    output_dir=cfg['save_dir'],\n",
    "    per_device_train_batch_size=cfg['batch_size'],\n",
    "    per_device_eval_batch_size=cfg['batch_size'],\n",
    "    gradient_accumulation_steps=cfg['grad_accum'],\n",
    "    learning_rate=cfg['lr'],\n",
    "    max_steps=cfg['max_steps'],\n",
    "    warmup_ratio=cfg['warmup_ratio'],\n",
    "    logging_steps=25,\n",
    "    eval_strategy=\"steps\",\n",
    "    eval_steps=100,\n",
    "    save_steps=200,\n",
    "    save_total_limit=2,\n",
    "    bf16=cfg['bf16'],\n",
    "    report_to=[\"none\"],\n",
    "    seed=cfg['seed'],\n",
    ")"
   ]
  },
  {
   "cell_type": "code",
   "execution_count": 36,
   "id": "a1ede594",
   "metadata": {},
   "outputs": [],
   "source": [
    "data_collator = DataCollatorForLanguageModeling(tokenizer, mlm=False)"
   ]
  },
  {
   "cell_type": "code",
   "execution_count": 40,
   "id": "714e546d",
   "metadata": {},
   "outputs": [],
   "source": [
    "trainer = Trainer(\n",
    "    model=model,\n",
    "    args=args,\n",
    "    train_dataset=ds_train,\n",
    "    eval_dataset=ds_val,\n",
    "    data_collator=data_collator,\n",
    ")"
   ]
  },
  {
   "cell_type": "code",
   "execution_count": 41,
   "id": "47d6d4b1",
   "metadata": {},
   "outputs": [
    {
     "name": "stderr",
     "output_type": "stream",
     "text": [
      "c:\\Users\\cncos\\miniconda3\\envs\\customer-support\\Lib\\site-packages\\torch\\utils\\data\\dataloader.py:666: UserWarning: 'pin_memory' argument is set as true but no accelerator is found, then device pinned memory won't be used.\n",
      "  warnings.warn(warn_msg)\n"
     ]
    },
    {
     "data": {
      "text/html": [
       "\n",
       "    <div>\n",
       "      \n",
       "      <progress value='20' max='20' style='width:300px; height:20px; vertical-align: middle;'></progress>\n",
       "      [20/20 14:40, Epoch 0/1]\n",
       "    </div>\n",
       "    <table border=\"1\" class=\"dataframe\">\n",
       "  <thead>\n",
       " <tr style=\"text-align: left;\">\n",
       "      <th>Step</th>\n",
       "      <th>Training Loss</th>\n",
       "      <th>Validation Loss</th>\n",
       "    </tr>\n",
       "  </thead>\n",
       "  <tbody>\n",
       "  </tbody>\n",
       "</table><p>"
      ],
      "text/plain": [
       "<IPython.core.display.HTML object>"
      ]
     },
     "metadata": {},
     "output_type": "display_data"
    },
    {
     "data": {
      "text/plain": [
       "TrainOutput(global_step=20, training_loss=1.191487979888916, metrics={'train_runtime': 943.4299, 'train_samples_per_second': 0.085, 'train_steps_per_second': 0.021, 'total_flos': 176002732486656.0, 'train_loss': 1.191487979888916, 'epoch': 0.08})"
      ]
     },
     "execution_count": 41,
     "metadata": {},
     "output_type": "execute_result"
    }
   ],
   "source": [
    "trainer.train()"
   ]
  },
  {
   "cell_type": "code",
   "execution_count": 42,
   "id": "c64103de",
   "metadata": {},
   "outputs": [
    {
     "data": {
      "text/plain": [
       "('outputs/lora-adapter\\\\tokenizer_config.json',\n",
       " 'outputs/lora-adapter\\\\special_tokens_map.json',\n",
       " 'outputs/lora-adapter\\\\chat_template.jinja',\n",
       " 'outputs/lora-adapter\\\\tokenizer.json')"
      ]
     },
     "execution_count": 42,
     "metadata": {},
     "output_type": "execute_result"
    }
   ],
   "source": [
    "# Save adapter only\n",
    "model.save_pretrained(cfg['save_dir'])\n",
    "tokenizer.save_pretrained(cfg['save_dir'])"
   ]
  }
 ],
 "metadata": {
  "kernelspec": {
   "display_name": "customer-support",
   "language": "python",
   "name": "python3"
  },
  "language_info": {
   "codemirror_mode": {
    "name": "ipython",
    "version": 3
   },
   "file_extension": ".py",
   "mimetype": "text/x-python",
   "name": "python",
   "nbconvert_exporter": "python",
   "pygments_lexer": "ipython3",
   "version": "3.11.13"
  }
 },
 "nbformat": 4,
 "nbformat_minor": 5
}
