{
 "cells": [
  {
   "cell_type": "code",
   "execution_count": 12,
   "id": "083f7394",
   "metadata": {},
   "outputs": [],
   "source": [
    "import tyro\n",
    "import torch\n",
    "from transformers import AutoTokenizer, AutoModelForCausalLM\n",
    "from peft import PeftModel\n",
    "from assistant.formatting import format_prompt\n",
    "\n"
   ]
  },
  {
   "cell_type": "code",
   "execution_count": 13,
   "id": "a2317a1b",
   "metadata": {},
   "outputs": [
    {
     "ename": "TypeError",
     "evalue": "configure() got an unexpected keyword argument 'kw_only'",
     "output_type": "error",
     "traceback": [
      "\u001b[1;31m---------------------------------------------------------------------------\u001b[0m",
      "\u001b[1;31mTypeError\u001b[0m                                 Traceback (most recent call last)",
      "Cell \u001b[1;32mIn[13], line 1\u001b[0m\n\u001b[1;32m----> 1\u001b[0m \u001b[38;5;129m@tyro\u001b[39m\u001b[38;5;241;43m.\u001b[39;49m\u001b[43mconf\u001b[49m\u001b[38;5;241;43m.\u001b[39;49m\u001b[43mconfigure\u001b[49m\u001b[43m(\u001b[49m\u001b[43mkw_only\u001b[49m\u001b[38;5;241;43m=\u001b[39;49m\u001b[38;5;28;43;01mTrue\u001b[39;49;00m\u001b[43m)\u001b[49m\n\u001b[0;32m      2\u001b[0m \u001b[38;5;28;01mclass\u001b[39;00m\u001b[38;5;250m \u001b[39m\u001b[38;5;21;01mArgs\u001b[39;00m:\n\u001b[0;32m      3\u001b[0m     base_model: \u001b[38;5;28mstr\u001b[39m \u001b[38;5;241m=\u001b[39m \u001b[38;5;124m\"\u001b[39m\u001b[38;5;124mTinyLlama/TinyLlama-1.1B-Chat-v1.0\u001b[39m\u001b[38;5;124m\"\u001b[39m\n\u001b[0;32m      4\u001b[0m     adapter_path: \u001b[38;5;28mstr\u001b[39m \u001b[38;5;241m=\u001b[39m \u001b[38;5;124m\"\u001b[39m\u001b[38;5;124moutputs/lora-adapter\u001b[39m\u001b[38;5;124m\"\u001b[39m\n",
      "\u001b[1;31mTypeError\u001b[0m: configure() got an unexpected keyword argument 'kw_only'"
     ]
    }
   ],
   "source": [
    "\n",
    "@tyro.conf.configure(kw_only=True)\n",
    "class Args:\n",
    "    base_model: str = \"TinyLlama/TinyLlama-1.1B-Chat-v1.0\"\n",
    "    adapter_path: str = \"outputs/lora-adapter\"\n",
    "    max_new_tokens: int = 256\n",
    "    temperature: float = 0.1\n",
    "    top_p: float = 0.9\n",
    "\n",
    "def load(base_model: str, adapter_path: str):\n",
    "    tokenizer = AutoTokenizer.from_pretrained(base_model, use_fast=True)\n",
    "    model = AutoModelForCausalLM.from_pretrained(base_model, device_map=\"auto\")\n",
    "    model = PeftModel.from_pretrained(model, adapter_path)\n",
    "    model.eval()\n",
    "    return tokenizer, model\n"
   ]
  },
  {
   "cell_type": "code",
   "execution_count": null,
   "id": "f59abc04",
   "metadata": {},
   "outputs": [],
   "source": []
  },
  {
   "cell_type": "code",
   "execution_count": null,
   "id": "04a662fb",
   "metadata": {},
   "outputs": [],
   "source": []
  }
 ],
 "metadata": {
  "kernelspec": {
   "display_name": "customer-support",
   "language": "python",
   "name": "python3"
  },
  "language_info": {
   "codemirror_mode": {
    "name": "ipython",
    "version": 3
   },
   "file_extension": ".py",
   "mimetype": "text/x-python",
   "name": "python",
   "nbconvert_exporter": "python",
   "pygments_lexer": "ipython3",
   "version": "3.11.13"
  }
 },
 "nbformat": 4,
 "nbformat_minor": 5
}
